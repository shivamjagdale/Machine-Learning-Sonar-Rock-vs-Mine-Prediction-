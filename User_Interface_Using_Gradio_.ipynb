{
  "nbformat": 4,
  "nbformat_minor": 0,
  "metadata": {
    "colab": {
      "provenance": []
    },
    "kernelspec": {
      "name": "python3",
      "display_name": "Python 3"
    },
    "language_info": {
      "name": "python"
    }
  },
  "cells": [
    {
      "cell_type": "code",
      "source": [
        "import gradio as gr\n",
        "import joblib\n",
        "import numpy as np\n",
        "\n",
        "# Load the trained model\n",
        "model = joblib.load(\"sonar_vs_rock.pk1\")\n",
        "\n",
        "# Define prediction function\n",
        "def predict_sonar(*inputs):\n",
        "    # Convert to numpy array and reshape to (1, 60)\n",
        "    data = np.array(inputs).reshape(1, -1)\n",
        "    prediction = model.predict(data)[0]\n",
        "    return \"Rock\" if prediction == \"R\" else \"Mine\"\n",
        "\n",
        "# Generate 60 number inputs\n",
        "input_fields = [gr.Number(label=f\"Feature {i+1}\") for i in range(60)]\n",
        "\n",
        "# Build the interface\n",
        "interface = gr.Interface(\n",
        "    fn=predict_sonar,\n",
        "    inputs=input_fields,\n",
        "    outputs=gr.Text(label=\"Prediction\"),\n",
        "    title=\"Sonar Signal Classifier\",\n",
        "    description=\"Enter 60 values from a sonar signal to classify whether it's a Rock or a Mine.\",\n",
        "    theme=\"default\"\n",
        ")\n",
        "\n",
        "# Launch the app\n",
        "interface.launch()\n"
      ],
      "metadata": {
        "colab": {
          "base_uri": "https://localhost:8080/",
          "height": 646
        },
        "id": "XmIYRg1RDO22",
        "outputId": "a8f11d2f-1572-43e5-cd78-b074431a5f6f"
      },
      "execution_count": 33,
      "outputs": [
        {
          "output_type": "stream",
          "name": "stdout",
          "text": [
            "It looks like you are running Gradio on a hosted a Jupyter notebook. For the Gradio app to work, sharing must be enabled. Automatically setting `share=True` (you can turn this off by setting `share=False` in `launch()` explicitly).\n",
            "\n",
            "Colab notebook detected. To show errors in colab notebook, set debug=True in launch()\n",
            "* Running on public URL: https://cc717a006cff833b74.gradio.live\n",
            "\n",
            "This share link expires in 1 week. For free permanent hosting and GPU upgrades, run `gradio deploy` from the terminal in the working directory to deploy to Hugging Face Spaces (https://huggingface.co/spaces)\n"
          ]
        },
        {
          "output_type": "display_data",
          "data": {
            "text/plain": [
              "<IPython.core.display.HTML object>"
            ],
            "text/html": [
              "<div><iframe src=\"https://cc717a006cff833b74.gradio.live\" width=\"100%\" height=\"500\" allow=\"autoplay; camera; microphone; clipboard-read; clipboard-write;\" frameborder=\"0\" allowfullscreen></iframe></div>"
            ]
          },
          "metadata": {}
        },
        {
          "output_type": "execute_result",
          "data": {
            "text/plain": []
          },
          "metadata": {},
          "execution_count": 33
        }
      ]
    },
    {
      "cell_type": "code",
      "source": [],
      "metadata": {
        "id": "LU3iWpItDVoG"
      },
      "execution_count": null,
      "outputs": []
    }
  ]
}